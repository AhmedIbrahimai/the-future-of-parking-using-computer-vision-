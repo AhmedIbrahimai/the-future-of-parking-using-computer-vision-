{
 "cells": [
  {
   "cell_type": "code",
   "execution_count": 7,
   "id": "fdd9a84d",
   "metadata": {},
   "outputs": [
    {
     "name": "stdout",
     "output_type": "stream",
     "text": [
      "areaNamearea1\n",
      "areaNamearea2\n",
      "areaNamearea3\n",
      "areaNamearea4\n",
      "areaNamearea5\n",
      "areaNamearea6\n",
      "areaNamearea7\n",
      "areaNamearea8\n",
      "areaNamearea9\n",
      "areaNamearea10\n",
      "areaNamearea11\n",
      "areaNamearea12\n",
      "areaNamearea13\n",
      "areaNamearea14\n",
      "areaNamearea15\n",
      "areaNamearea16\n"
     ]
    }
   ],
   "source": [
    "import cv2\n",
    "import numpy as np\n",
    "import pickle\n",
    "import cvzone\n",
    "\n",
    "cap = cv2.VideoCapture('easy.mp4')\n",
    "\n",
    "drawing = False\n",
    "areaName = []\n",
    "\n",
    "try:\n",
    "    with open(\"computervision\",'rb') as f:\n",
    "                data = pickle.load(f)\n",
    "                polylines , areaName = data['polylines'] , data['areaName']\n",
    "except:\n",
    "    polylines = []\n",
    "\n",
    "points = []\n",
    "current_name = \" \"\n",
    "\n",
    "def draw(event, x, y, flags, param):\n",
    "    global points, drawing\n",
    "    if event == cv2.EVENT_LBUTTONDOWN:\n",
    "        drawing = True\n",
    "        points = [(x, y)]\n",
    "    elif event == cv2.EVENT_MOUSEMOVE:\n",
    "        if drawing:\n",
    "            points.append((x, y))\n",
    "    elif event == cv2.EVENT_LBUTTONUP:\n",
    "        drawing = False\n",
    "        current_name = input(\"areaName\")\n",
    "        if current_name:\n",
    "            areaName.append(current_name)\n",
    "            polylines.append(np.array(points, np.int32))\n",
    "\n",
    "while True:\n",
    "    ret, frame = cap.read()\n",
    "    if not ret:\n",
    "        cap.set(cv2.CAP_PROP_POS_FRAMES, 0)\n",
    "        continue\n",
    "\n",
    "    frame = cv2.resize(frame, (1200, 700))\n",
    "\n",
    "    for i, polyline in enumerate (polylines):\n",
    "        cv2.polylines(frame, [polyline], True, (0, 0, 255), 2)\n",
    "        cvzone.putTextRect(frame,f'{areaName[i]}' , tuple(polyline[0]),1,1)\n",
    "\n",
    "    cv2.imshow('FRAME', frame)\n",
    "    cv2.setMouseCallback('FRAME', draw)\n",
    "\n",
    "    key = cv2.waitKey(1) & 0xFF\n",
    "    \n",
    "    if key == ord('s'):\n",
    "        with open(\"computervision\",'wb') as f:\n",
    "            data = {'polylines':polylines,'areaName':areaName}\n",
    "            pickle.dump(data,f)\n",
    "            \n",
    "    if key == ord('q'):\n",
    "        break\n",
    "\n",
    "cap.release()\n",
    "\n",
    "cv2.destroyAllWindows()\n"
   ]
  },
  {
   "cell_type": "code",
   "execution_count": null,
   "id": "c6d6809e",
   "metadata": {},
   "outputs": [],
   "source": []
  }
 ],
 "metadata": {
  "kernelspec": {
   "display_name": "Python 3 (ipykernel)",
   "language": "python",
   "name": "python3"
  },
  "language_info": {
   "codemirror_mode": {
    "name": "ipython",
    "version": 3
   },
   "file_extension": ".py",
   "mimetype": "text/x-python",
   "name": "python",
   "nbconvert_exporter": "python",
   "pygments_lexer": "ipython3",
   "version": "3.9.17"
  }
 },
 "nbformat": 4,
 "nbformat_minor": 5
}
